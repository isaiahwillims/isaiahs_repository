{
 "metadata": {
  "name": "",
  "signature": "sha256:909b53788bffa1a13451d7af8e01f7e84706059b8b50f0924fa50e046de4d39e"
 },
 "nbformat": 3,
 "nbformat_minor": 0,
 "worksheets": [
  {
   "cells": [
    {
     "cell_type": "code",
     "collapsed": false,
     "input": [
      "class Chair(object):\n",
      "    \n",
      "    def __init__(self, *args):\n",
      "        self.people = []\n",
      "        for person in args:\n",
      "            self.people.append(person)\n",
      "    \n",
      "    def add_person(self, person):\n",
      "       self.people.append(person)\n",
      "    \n",
      "c = Chair(\"mark\")\n",
      "\n",
      "c.add_person(\"mark\")\n",
      "\n",
      "c.people\n",
      "# Chair.add_person(c, \"mark\")\n",
      "# #objects are stupid\n",
      "# c.people\n",
      "\n",
      "# chairs = []\n",
      "# for i in range(4):\n",
      "#     chairs.append(Chair(\"mark\"))\n",
      "    \n",
      "# chairs[0].add_person(\"john\")\n",
      "\n",
      "# print chairs[0].people"
     ],
     "language": "python",
     "metadata": {},
     "outputs": [
      {
       "metadata": {},
       "output_type": "pyout",
       "prompt_number": 47,
       "text": [
        "['mark', 'mark']"
       ]
      }
     ],
     "prompt_number": 47
    },
    {
     "cell_type": "markdown",
     "metadata": {},
     "source": [
      "`class` and `def` are similar in their functions"
     ]
    },
    {
     "cell_type": "code",
     "collapsed": false,
     "input": [
      "def blank_function():\n",
      "    pass\n",
      "\n",
      "blank_function()"
     ],
     "language": "python",
     "metadata": {},
     "outputs": [],
     "prompt_number": 22
    },
    {
     "cell_type": "code",
     "collapsed": false,
     "input": [
      "pass"
     ],
     "language": "python",
     "metadata": {},
     "outputs": [],
     "prompt_number": 23
    },
    {
     "cell_type": "code",
     "collapsed": false,
     "input": [],
     "language": "python",
     "metadata": {},
     "outputs": []
    }
   ],
   "metadata": {}
  }
 ]
}